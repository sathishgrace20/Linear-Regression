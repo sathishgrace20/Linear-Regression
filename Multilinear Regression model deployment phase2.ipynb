{
 "cells": [
  {
   "cell_type": "code",
   "execution_count": 1,
   "id": "cf4c4f1d-2710-4a10-ab5c-c2208048c456",
   "metadata": {},
   "outputs": [],
   "source": [
    "import pickle"
   ]
  },
  {
   "cell_type": "code",
   "execution_count": 3,
   "id": "17b09445-c627-49ff-9035-814946f3d533",
   "metadata": {},
   "outputs": [],
   "source": [
    "loaded_model=pickle.load(open(\"FInalised_Mul_Linear_Model.sav\",'rb'))"
   ]
  },
  {
   "cell_type": "code",
   "execution_count": null,
   "id": "2eb0c5f4-20ab-4488-936f-67f3bb7b40b1",
   "metadata": {},
   "outputs": [],
   "source": [
    "result=loaded_model."
   ]
  }
 ],
 "metadata": {
  "kernelspec": {
   "display_name": "Python [conda env:base] *",
   "language": "python",
   "name": "conda-base-py"
  },
  "language_info": {
   "codemirror_mode": {
    "name": "ipython",
    "version": 3
   },
   "file_extension": ".py",
   "mimetype": "text/x-python",
   "name": "python",
   "nbconvert_exporter": "python",
   "pygments_lexer": "ipython3",
   "version": "3.12.7"
  }
 },
 "nbformat": 4,
 "nbformat_minor": 5
}
